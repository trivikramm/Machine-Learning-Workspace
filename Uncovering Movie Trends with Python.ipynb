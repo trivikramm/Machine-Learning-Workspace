{
  "nbformat": 4,
  "nbformat_minor": 0,
  "metadata": {
    "colab": {
      "provenance": []
    },
    "kernelspec": {
      "name": "python3",
      "display_name": "Python 3"
    },
    "language_info": {
      "name": "python"
    }
  },
  "cells": [
    {
      "cell_type": "code",
      "execution_count": 1,
      "metadata": {
        "id": "7qtrsWXqI_2V"
      },
      "outputs": [],
      "source": [
        "import pandas as pd\n"
      ]
    },
    {
      "cell_type": "code",
      "source": [
        "dataframe = pd.read_csv(\"/content/movies.csv\")"
      ],
      "metadata": {
        "id": "9eJ8oO0IJHEm"
      },
      "execution_count": 2,
      "outputs": []
    },
    {
      "cell_type": "code",
      "source": [
        "dataframe.shape"
      ],
      "metadata": {
        "colab": {
          "base_uri": "https://localhost:8080/"
        },
        "id": "WNXpNbV8JMc4",
        "outputId": "3d184206-52dc-4f3a-adc0-a32eebfdf7de"
      },
      "execution_count": 3,
      "outputs": [
        {
          "output_type": "execute_result",
          "data": {
            "text/plain": [
              "(9742, 3)"
            ]
          },
          "metadata": {},
          "execution_count": 3
        }
      ]
    },
    {
      "cell_type": "code",
      "source": [
        "dataframe1 = pd.read_csv(\"/content/ratings.csv\")"
      ],
      "metadata": {
        "id": "yhO1yAQJJOgw"
      },
      "execution_count": 4,
      "outputs": []
    },
    {
      "cell_type": "code",
      "source": [
        "dataframe1.shape"
      ],
      "metadata": {
        "colab": {
          "base_uri": "https://localhost:8080/"
        },
        "id": "dXbJyGLQJWHZ",
        "outputId": "fc4ca570-74ba-4477-9c7a-861674e30880"
      },
      "execution_count": 5,
      "outputs": [
        {
          "output_type": "execute_result",
          "data": {
            "text/plain": [
              "(100836, 4)"
            ]
          },
          "metadata": {},
          "execution_count": 5
        }
      ]
    },
    {
      "cell_type": "code",
      "source": [
        "unique_user_ids = dataframe1[\"userId\"].nunique()\n",
        "\n",
        "print(\"Number of unique user IDs:\", unique_user_ids)"
      ],
      "metadata": {
        "colab": {
          "base_uri": "https://localhost:8080/"
        },
        "id": "8KTC5EAmJX03",
        "outputId": "b3a8e31e-be7a-48fe-a667-acb1e55202f4"
      },
      "execution_count": 6,
      "outputs": [
        {
          "output_type": "stream",
          "name": "stdout",
          "text": [
            "Number of unique user IDs: 610\n"
          ]
        }
      ]
    },
    {
      "cell_type": "code",
      "source": [
        "ratings_df = pd.read_csv(\"/content/ratings.csv\")\n",
        "\n",
        "movie_ratings = ratings_df.groupby(\"movieId\").size().reset_index(name=\"num_ratings\")\n",
        "\n",
        "\n",
        "most_rated_movie = movie_ratings.sort_values(by=\"num_ratings\", ascending=False).head(1)\n",
        "\n",
        "print(\"Movie with the most ratings:\")\n",
        "print(most_rated_movie)"
      ],
      "metadata": {
        "colab": {
          "base_uri": "https://localhost:8080/"
        },
        "id": "5A3mEudVJtHm",
        "outputId": "30299c79-87db-4172-c659-e1fec48c2fea"
      },
      "execution_count": 7,
      "outputs": [
        {
          "output_type": "stream",
          "name": "stdout",
          "text": [
            "Movie with the most ratings:\n",
            "     movieId  num_ratings\n",
            "314      356          329\n"
          ]
        }
      ]
    },
    {
      "cell_type": "code",
      "source": [
        "movies_df = pd.read_csv(\"/content/movies.csv\")\n",
        "\n",
        "\n",
        "movie_ratings = movies_df.groupby(\"movieId\").size().reset_index(name=\"num_ratings\")\n",
        "\n",
        "most_rated_movie = movie_ratings.sort_values(by=\"num_ratings\", ascending=False).head(1)\n",
        "\n",
        "print(\"Movie with the most ratings:\")\n",
        "print(most_rated_movie)"
      ],
      "metadata": {
        "colab": {
          "base_uri": "https://localhost:8080/"
        },
        "id": "22q8XvwbJ8p9",
        "outputId": "9fd7d086-bb51-4650-ae0e-72ce556116dd"
      },
      "execution_count": 8,
      "outputs": [
        {
          "output_type": "stream",
          "name": "stdout",
          "text": [
            "Movie with the most ratings:\n",
            "   movieId  num_ratings\n",
            "0        1            1\n"
          ]
        }
      ]
    },
    {
      "cell_type": "code",
      "source": [
        "\n",
        "merged_df = pd.merge(ratings_df, movies_df, on='movieId')\n",
        "\n",
        "movie_ratings = merged_df.groupby(\"title\").size().reset_index(name=\"num_ratings\")\n",
        "\n",
        "most_rated_movie = movie_ratings.sort_values(by=\"num_ratings\", ascending=False).head(1)\n",
        "\n",
        "print(\"Movie with the most ratings:\")\n",
        "print(most_rated_movie)\n"
      ],
      "metadata": {
        "colab": {
          "base_uri": "https://localhost:8080/"
        },
        "id": "WQZ3wp5zKY_I",
        "outputId": "80dddbbc-ddea-4570-dd84-423b7ef51e23"
      },
      "execution_count": 9,
      "outputs": [
        {
          "output_type": "stream",
          "name": "stdout",
          "text": [
            "Movie with the most ratings:\n",
            "                    title  num_ratings\n",
            "3158  Forrest Gump (1994)          329\n"
          ]
        }
      ]
    },
    {
      "cell_type": "code",
      "source": [
        "\n",
        "matrix_ratings = merged_df[merged_df['title'] == 'Matrix, The (1999)']\n",
        "\n",
        "\n",
        "matrix_tags = matrix_ratings['tag'].unique()\n",
        "\n",
        "print(\"Tags for 'Matrix, The (1999)':\")\n",
        "for tag in matrix_tags:\n",
        "    print(tag)\n"
      ],
      "metadata": {
        "id": "t-dVJIFjLrl2"
      },
      "execution_count": null,
      "outputs": []
    },
    {
      "cell_type": "code",
      "source": [
        "tags_df = pd.read_csv(\"/content/tags.csv\")"
      ],
      "metadata": {
        "id": "ZebjVU7uLyWC"
      },
      "execution_count": 12,
      "outputs": []
    },
    {
      "cell_type": "code",
      "source": [
        "\n",
        "merged_with_tags = pd.merge(merged_df, tags_df, on=['movieId', 'userId'])\n",
        "\n",
        "\n",
        "matrix_tags = merged_with_tags[merged_with_tags['title'] == 'Matrix, The (1999)']['tag']\n",
        "\n",
        "print(\"All tags for 'Matrix, The (1999)':\")\n",
        "for tag in matrix_tags:\n",
        "    print(tag)\n"
      ],
      "metadata": {
        "colab": {
          "base_uri": "https://localhost:8080/"
        },
        "id": "Q75BuU1xMVIV",
        "outputId": "a71ab9ab-408e-4ff9-bf0b-c9b0f063f5b9"
      },
      "execution_count": 13,
      "outputs": [
        {
          "output_type": "stream",
          "name": "stdout",
          "text": [
            "All tags for 'Matrix, The (1999)':\n",
            "martial arts\n",
            "sci-fi\n",
            "alternate universe\n",
            "philosophy\n",
            "post apocalyptic\n"
          ]
        }
      ]
    },
    {
      "cell_type": "code",
      "source": [
        "\n",
        "ratings_df = pd.read_csv(\"/content/ratings.csv\")\n",
        "\n",
        "merged_df = pd.merge(ratings_df, movies_df, on='movieId')\n",
        "\n",
        "terminator2_ratings = merged_df[merged_df['title'] == 'Terminator 2: Judgment Day (1991)']\n",
        "\n",
        "average_rating = terminator2_ratings['rating'].mean()\n",
        "\n",
        "print(\"Average user rating for 'Terminator 2: Judgment Day (1991)':\", average_rating)\n"
      ],
      "metadata": {
        "colab": {
          "base_uri": "https://localhost:8080/"
        },
        "id": "M2lY0KCwMdRp",
        "outputId": "a75a65ff-b0a7-437a-e985-409d338b57ed"
      },
      "execution_count": 15,
      "outputs": [
        {
          "output_type": "stream",
          "name": "stdout",
          "text": [
            "Average user rating for 'Terminator 2: Judgment Day (1991)': 3.970982142857143\n"
          ]
        }
      ]
    },
    {
      "cell_type": "code",
      "source": [
        "import matplotlib.pyplot as plt\n",
        "\n",
        "# Read the ratings.csv file\n",
        "ratings_df = pd.read_csv(\"/content/ratings.csv\")\n",
        "\n",
        "merged_df = pd.merge(ratings_df, movies_df, on='movieId')\n",
        "\n",
        "fight_club_ratings = merged_df[merged_df['title'] == 'Fight Club (1999)']['rating']\n",
        "\n",
        "\n",
        "plt.hist(fight_club_ratings, bins=10, edgecolor='black')\n",
        "plt.xlabel('Rating')\n",
        "plt.ylabel('Frequency')\n",
        "plt.title('Distribution of User Ratings for \"Fight Club (1999)\"')\n",
        "plt.show()\n"
      ],
      "metadata": {
        "colab": {
          "base_uri": "https://localhost:8080/",
          "height": 472
        },
        "id": "9ZARSodxMo-A",
        "outputId": "50434b08-57c4-43ed-e6a9-d09c7a86285e"
      },
      "execution_count": 16,
      "outputs": [
        {
          "output_type": "display_data",
          "data": {
            "text/plain": [
              "<Figure size 640x480 with 1 Axes>"
            ],
            "image/png": "[encoded data removed]"
          },
          "metadata": {}
        }
      ]
    },
    {
      "cell_type": "code",
      "source": [
        "\n",
        "movie_ratings_grouped = ratings_df.groupby('movieId')['rating'].agg(['count', 'mean'])\n",
        "merged_df = pd.merge(movies_df, movie_ratings_grouped, on='movieId', how='inner')\n"
      ],
      "metadata": {
        "id": "KsmcFVnWN2SP"
      },
      "execution_count": 18,
      "outputs": []
    },
    {
      "cell_type": "code",
      "source": [
        "\n",
        "sorted_df = merged_df.sort_values(by='mean', ascending=False)\n",
        "\n",
        "print(\"Most popular movie based on average user ratings:\")"
      ],
      "metadata": {
        "colab": {
          "base_uri": "https://localhost:8080/"
        },
        "id": "EsJQ1kUMOBlT",
        "outputId": "35bf3086-5842-4688-e657-a3a7841fcd9e"
      },
      "execution_count": 20,
      "outputs": [
        {
          "output_type": "stream",
          "name": "stdout",
          "text": [
            "Most popular movie based on average user ratings:\n",
            "Paper Birds (Pájaros de papel) (2010)\n"
          ]
        }
      ]
    },
    {
      "cell_type": "code",
      "source": [
        "\n",
        "movie_ratings_grouped = ratings_df.groupby('movieId')['rating'].agg(['count', 'mean'])\n",
        "\n",
        "merged_df = pd.merge(movies_df, movie_ratings_grouped, on='movieId', how='inner')\n",
        "\n",
        "sorted_df = merged_df.sort_values(by='mean', ascending=False)\n",
        "\n",
        "print(\"Most popular movie based on average user ratings:\")\n",
        "print(sorted_df.iloc[0]['title'])\n"
      ],
      "metadata": {
        "colab": {
          "base_uri": "https://localhost:8080/"
        },
        "id": "HGz89VvVOKdO",
        "outputId": "b0b2ba4c-1c73-4903-8775-6cdc6e5c4251"
      },
      "execution_count": 21,
      "outputs": [
        {
          "output_type": "stream",
          "name": "stdout",
          "text": [
            "Most popular movie based on average user ratings:\n",
            "Paper Birds (Pájaros de papel) (2010)\n"
          ]
        }
      ]
    },
    {
      "cell_type": "code",
      "source": [
        "\n",
        "movie_ratings_grouped = ratings_df.groupby('movieId')['rating'].agg(['count', 'mean'])\n",
        "\n",
        "merged_df = pd.merge(movies_df, movie_ratings_grouped, on='movieId', how='inner')\n",
        "\n",
        "sorted_df = merged_df.sort_values(by='count', ascending=False)\n",
        "\n",
        "print(\"Top 5 popular movies based on number of user ratings:\")\n",
        "print(sorted_df.head(5)['title'])\n"
      ],
      "metadata": {
        "colab": {
          "base_uri": "https://localhost:8080/"
        },
        "id": "Mqa0IK2wOcaY",
        "outputId": "65dabdd5-8b57-4514-ca1b-d5e300d12a70"
      },
      "execution_count": 22,
      "outputs": [
        {
          "output_type": "stream",
          "name": "stdout",
          "text": [
            "Top 5 popular movies based on number of user ratings:\n",
            "314                  Forrest Gump (1994)\n",
            "277     Shawshank Redemption, The (1994)\n",
            "257                  Pulp Fiction (1994)\n",
            "510     Silence of the Lambs, The (1991)\n",
            "1938                  Matrix, The (1999)\n",
            "Name: title, dtype: object\n"
          ]
        }
      ]
    },
    {
      "cell_type": "code",
      "source": [
        "\n",
        "sci_fi_movies = merged_df[merged_df['genres'].str.contains('Sci-Fi')]\n",
        "\n",
        "\n",
        "sorted_sci_fi = sci_fi_movies.sort_values(by='count', ascending=False)\n",
        "\n",
        "\n",
        "print(\"Third most popular Sci-Fi movie based on number of user ratings:\")\n",
        "print(sorted_sci_fi.iloc[2]['title'])\n"
      ],
      "metadata": {
        "colab": {
          "base_uri": "https://localhost:8080/"
        },
        "id": "4TQy8OgSOkiJ",
        "outputId": "9d19049d-140c-4af2-ddbc-33d4629326d6"
      },
      "execution_count": 23,
      "outputs": [
        {
          "output_type": "stream",
          "name": "stdout",
          "text": [
            "Third most popular Sci-Fi movie based on number of user ratings:\n",
            "Jurassic Park (1993)\n"
          ]
        }
      ]
    },
    {
      "cell_type": "code",
      "source": [
        "\n",
        "import requests\n",
        "from bs4 import BeautifulSoup\n",
        "\n",
        "\n",
        "popular_movies = merged_df[merged_df['count'] > 50]\n",
        "\n",
        "links_df = pd.read_csv(\"/content/links.csv\")\n",
        "\n",
        "\n",
        "for index, row in popular_movies.iterrows():\n",
        "    movie_id = row['movieId']\n",
        "\n",
        "\n",
        "    imdb_id = links_df[links_df['movieId'] == movie_id]['imdbId'].values[0]\n",
        "    imdb_url = f\"https://www.imdb.com/title/tt{imdb_id}/reviews\"\n",
        "\n",
        "\n",
        "    response = requests.get(imdb_url)\n",
        "    soup = BeautifulSoup(response.text, 'html.parser')\n",
        "\n",
        "\n",
        "    reviews = [review.text.strip() for review in soup.find_all('div', class_='text show-more__control')]\n",
        "\n",
        "\n",
        "    print(f\"Reviews for {row['title']}:\")\n",
        "    for review in reviews:\n",
        "        print(review)\n",
        "        print(\"-\" * 50)\n"
      ],
      "metadata": {
        "colab": {
          "base_uri": "https://localhost:8080/",
          "height": 1000
        },
        "collapsed": true,
        "id": "sTI65lyFOyeI",
        "outputId": "fb62026d-debb-475e-b2b6-29a16d81c499"
      },
      "execution_count": 24,
      "outputs": [
        {
          "output_type": "stream",
          "name": "stdout",
          "text": [
            "Reviews for Toy Story (1995):\n",
            "Reviews for Jumanji (1995):\n",
            "Reviews for Grumpier Old Men (1995):\n",
            "Reviews for Heat (1995):\n",
            "Reviews for Sabrina (1995):\n",
            "Reviews for GoldenEye (1995):\n",
            "Reviews for American President, The (1995):\n",
            "Reviews for Casino (1995):\n",
            "Reviews for Sense and Sensibility (1995):\n",
            "Reviews for Ace Ventura: When Nature Calls (1995):\n",
            "Reviews for Get Shorty (1995):\n",
            "Reviews for Leaving Las Vegas (1995):\n",
            "Reviews for Twelve Monkeys (a.k.a. 12 Monkeys) (1995):\n",
            "Reviews for Babe (1995):\n",
            "Reviews for Dead Man Walking (1995):\n",
            "Reviews for Clueless (1995):\n",
            "Reviews for Seven (a.k.a. Se7en) (1995):\n",
            "Reviews for Pocahontas (1995):\n",
            "Reviews for Usual Suspects, The (1995):\n",
            "Reviews for Mr. Holland's Opus (1995):\n",
            "Reviews for From Dusk Till Dawn (1996):\n",
            "Reviews for Broken Arrow (1996):\n",
            "Reviews for Happy Gilmore (1996):\n",
            "Reviews for Braveheart (1995):\n",
            "Reviews for Taxi Driver (1976):\n",
            "Reviews for Birdcage, The (1996):\n",
            "Reviews for Bad Boys (1995):\n",
            "Reviews for Apollo 13 (1995):\n",
            "Reviews for Batman Forever (1995):\n",
            "Reviews for Casper (1995):\n",
            "Reviews for Congo (1995):\n",
            "Reviews for Crimson Tide (1995):\n",
            "Reviews for Desperado (1995):\n",
            "Reviews for Die Hard: With a Vengeance (1995):\n",
            "Reviews for First Knight (1995):\n",
            "Reviews for Johnny Mnemonic (1995):\n",
            "Reviews for Judge Dredd (1995):\n",
            "Reviews for Net, The (1995):\n",
            "Reviews for Waterworld (1995):\n",
            "Reviews for Clerks (1994):\n",
            "Reviews for Disclosure (1994):\n",
            "Reviews for Dumb & Dumber (Dumb and Dumber) (1994):\n",
            "Reviews for Ed Wood (1994):\n",
            "Reviews for Interview with the Vampire: The Vampire Chronicles (1994):\n",
            "Reviews for Star Wars: Episode IV - A New Hope (1977):\n",
            "Reviews for Legends of the Fall (1994):\n",
            "Reviews for Natural Born Killers (1994):\n",
            "Reviews for Outbreak (1995):\n",
            "Reviews for Léon: The Professional (a.k.a. The Professional) (Léon) (1994):\n",
            "Reviews for Pulp Fiction (1994):\n",
            "Reviews for Quiz Show (1994):\n",
            "Reviews for Stargate (1994):\n",
            "Reviews for Santa Clause, The (1994):\n",
            "Reviews for Shawshank Redemption, The (1994):\n",
            "Reviews for Star Trek: Generations (1994):\n",
            "Reviews for What's Eating Gilbert Grape (1993):\n",
            "Reviews for While You Were Sleeping (1995):\n",
            "Reviews for Ace Ventura: Pet Detective (1994):\n",
            "Reviews for Clear and Present Danger (1994):\n",
            "Reviews for Client, The (1994):\n",
            "Reviews for Crow, The (1994):\n",
            "Reviews for Forrest Gump (1994):\n",
            "Reviews for Four Weddings and a Funeral (1994):\n",
            "Reviews for Lion King, The (1994):\n",
            "Reviews for Mask, The (1994):\n",
            "Reviews for Maverick (1994):\n",
            "Reviews for Naked Gun 33 1/3: The Final Insult (1994):\n",
            "Reviews for Speed (1994):\n",
            "Reviews for True Lies (1994):\n",
            "Reviews for Addams Family Values (1993):\n",
            "Reviews for Beverly Hills Cop III (1994):\n",
            "Reviews for City Slickers II: The Legend of Curly's Gold (1994):\n",
            "Reviews for Cliffhanger (1993):\n",
            "Reviews for Coneheads (1993):\n",
            "Reviews for Dave (1993):\n",
            "Reviews for Demolition Man (1993):\n",
            "Reviews for Firm, The (1993):\n",
            "Reviews for Fugitive, The (1993):\n",
            "Reviews for Hot Shots! Part Deux (1993):\n",
            "Reviews for In the Line of Fire (1993):\n",
            "Reviews for Jurassic Park (1993):\n",
            "Reviews for Last Action Hero (1993):\n",
            "Reviews for Mrs. Doubtfire (1993):\n",
            "Reviews for Philadelphia (1993):\n",
            "Reviews for Piano, The (1993):\n",
            "Reviews for Robin Hood: Men in Tights (1993):\n",
            "Reviews for Schindler's List (1993):\n",
            "Reviews for Sleepless in Seattle (1993):\n",
            "Reviews for Blade Runner (1982):\n",
            "Reviews for Nightmare Before Christmas, The (1993):\n",
            "Reviews for Three Musketeers, The (1993):\n",
            "Reviews for Tombstone (1993):\n",
            "Reviews for True Romance (1993):\n",
            "Reviews for Home Alone (1990):\n",
            "Reviews for Ghost (1990):\n",
            "Reviews for Aladdin (1992):\n",
            "Reviews for Terminator 2: Judgment Day (1991):\n",
            "Reviews for Dances with Wolves (1990):\n",
            "Reviews for Batman (1989):\n",
            "Reviews for Silence of the Lambs, The (1991):\n",
            "Reviews for Snow White and the Seven Dwarfs (1937):\n",
            "Reviews for Beauty and the Beast (1991):\n",
            "Reviews for Pinocchio (1940):\n",
            "Reviews for Pretty Woman (1990):\n",
            "Reviews for Fargo (1996):\n",
            "Reviews for Mission: Impossible (1996):\n",
            "Reviews for Dragonheart (1996):\n",
            "Reviews for Space Jam (1996):\n",
            "Reviews for Truth About Cats & Dogs, The (1996):\n",
            "Reviews for Rock, The (1996):\n",
            "Reviews for Twister (1996):\n",
            "Reviews for Dr. Strangelove or: How I Learned to Stop Worrying and Love the Bomb (1964):\n",
            "Reviews for Trainspotting (1996):\n",
            "Reviews for Independence Day (a.k.a. ID4) (1996):\n",
            "Reviews for Cable Guy, The (1996):\n",
            "Reviews for Eraser (1996):\n",
            "Reviews for Nutty Professor, The (1996):\n",
            "Reviews for Godfather, The (1972):\n",
            "Reviews for Vertigo (1958):\n",
            "Reviews for Rear Window (1954):\n",
            "Reviews for North by Northwest (1959):\n",
            "Reviews for Casablanca (1942):\n",
            "Reviews for Wizard of Oz, The (1939):\n",
            "Reviews for Citizen Kane (1941):\n",
            "Reviews for 2001: A Space Odyssey (1968):\n",
            "Reviews for It's a Wonderful Life (1946):\n",
            "Reviews for Mary Poppins (1964):\n",
            "Reviews for Sound of Music, The (1965):\n",
            "Reviews for Die Hard (1988):\n",
            "Reviews for Willy Wonka & the Chocolate Factory (1971):\n",
            "Reviews for Fish Called Wanda, A (1988):\n",
            "Reviews for Monty Python's Life of Brian (1979):\n",
            "Reviews for Reservoir Dogs (1992):\n",
            "Reviews for Platoon (1986):\n",
            "Reviews for E.T. the Extra-Terrestrial (1982):\n",
            "Reviews for Top Gun (1986):\n",
            "Reviews for Abyss, The (1989):\n",
            "Reviews for Monty Python and the Holy Grail (1975):\n",
            "Reviews for Wallace & Gromit: The Wrong Trousers (1993):\n",
            "Reviews for One Flew Over the Cuckoo's Nest (1975):\n",
            "Reviews for Star Wars: Episode V - The Empire Strikes Back (1980):\n",
            "Reviews for Princess Bride, The (1987):\n",
            "Reviews for Raiders of the Lost Ark (Indiana Jones and the Raiders of the Lost Ark) (1981):\n",
            "Reviews for Brazil (1985):\n",
            "Reviews for Aliens (1986):\n",
            "Reviews for Good, the Bad and the Ugly, The (Buono, il brutto, il cattivo, Il) (1966):\n",
            "Reviews for 12 Angry Men (1957):\n",
            "Reviews for Clockwork Orange, A (1971):\n",
            "Reviews for To Kill a Mockingbird (1962):\n",
            "Reviews for Apocalypse Now (1979):\n",
            "Reviews for Star Wars: Episode VI - Return of the Jedi (1983):\n",
            "Reviews for Goodfellas (1990):\n",
            "Reviews for Alien (1979):\n",
            "Reviews for Army of Darkness (1993):\n",
            "Reviews for Psycho (1960):\n",
            "Reviews for Blues Brothers, The (1980):\n",
            "Reviews for Godfather: Part II, The (1974):\n",
            "Reviews for Full Metal Jacket (1987):\n",
            "Reviews for Amadeus (1984):\n",
            "Reviews for Annie Hall (1977):\n",
            "Reviews for Sting, The (1973):\n",
            "Reviews for Terminator, The (1984):\n",
            "Reviews for Dead Poets Society (1989):\n",
            "Reviews for Graduate, The (1967):\n",
            "Reviews for Chinatown (1974):\n",
            "Reviews for Shining, The (1980):\n",
            "Reviews for Stand by Me (1986):\n",
            "Reviews for Groundhog Day (1993):\n",
            "Reviews for Back to the Future (1985):\n",
            "Reviews for Cool Hand Luke (1967):\n",
            "Reviews for Young Frankenstein (1974):\n",
            "Reviews for Fantasia (1940):\n",
            "Reviews for This Is Spinal Tap (1984):\n",
            "Reviews for Indiana Jones and the Last Crusade (1989):\n",
            "Reviews for Field of Dreams (1989):\n",
            "Reviews for Butch Cassidy and the Sundance Kid (1969):\n",
            "Reviews for When Harry Met Sally... (1989):\n",
            "Reviews for Star Trek: First Contact (1996):\n",
            "Reviews for Die Hard 2 (1990):\n",
            "Reviews for Star Trek II: The Wrath of Khan (1982):\n",
            "Reviews for Batman Returns (1992):\n",
            "Reviews for Grease (1978):\n",
            "Reviews for Jaws (1975):\n",
            "Reviews for Mars Attacks! (1996):\n",
            "Reviews for Jerry Maguire (1996):\n",
            "Reviews for Raising Arizona (1987):\n",
            "Reviews for Scream (1996):\n",
            "Reviews for Donnie Brasco (1997):\n",
            "Reviews for Liar Liar (1997):\n"
          ]
        },
        {
          "output_type": "error",
          "ename": "KeyboardInterrupt",
          "evalue": "",
          "traceback": [
            "\u001b[0;31m---------------------------------------------------------------------------\u001b[0m",
            "\u001b[0;31mKeyboardInterrupt\u001b[0m                         Traceback (most recent call last)",
            "\u001b[0;32m<ipython-input-24-6ae6a64a9397>\u001b[0m in \u001b[0;36m<cell line: 14>\u001b[0;34m()\u001b[0m\n\u001b[1;32m     20\u001b[0m \u001b[0;34m\u001b[0m\u001b[0m\n\u001b[1;32m     21\u001b[0m     \u001b[0;31m# Send a request to the IMDB reviews page\u001b[0m\u001b[0;34m\u001b[0m\u001b[0;34m\u001b[0m\u001b[0m\n\u001b[0;32m---> 22\u001b[0;31m     \u001b[0mresponse\u001b[0m \u001b[0;34m=\u001b[0m \u001b[0mrequests\u001b[0m\u001b[0;34m.\u001b[0m\u001b[0mget\u001b[0m\u001b[0;34m(\u001b[0m\u001b[0mimdb_url\u001b[0m\u001b[0;34m)\u001b[0m\u001b[0;34m\u001b[0m\u001b[0;34m\u001b[0m\u001b[0m\n\u001b[0m\u001b[1;32m     23\u001b[0m     \u001b[0msoup\u001b[0m \u001b[0;34m=\u001b[0m \u001b[0mBeautifulSoup\u001b[0m\u001b[0;34m(\u001b[0m\u001b[0mresponse\u001b[0m\u001b[0;34m.\u001b[0m\u001b[0mtext\u001b[0m\u001b[0;34m,\u001b[0m \u001b[0;34m'html.parser'\u001b[0m\u001b[0;34m)\u001b[0m\u001b[0;34m\u001b[0m\u001b[0;34m\u001b[0m\u001b[0m\n\u001b[1;32m     24\u001b[0m \u001b[0;34m\u001b[0m\u001b[0m\n",
            "\u001b[0;32m/usr/local/lib/python3.10/dist-packages/requests/api.py\u001b[0m in \u001b[0;36mget\u001b[0;34m(url, params, **kwargs)\u001b[0m\n\u001b[1;32m     71\u001b[0m     \"\"\"\n\u001b[1;32m     72\u001b[0m \u001b[0;34m\u001b[0m\u001b[0m\n\u001b[0;32m---> 73\u001b[0;31m     \u001b[0;32mreturn\u001b[0m \u001b[0mrequest\u001b[0m\u001b[0;34m(\u001b[0m\u001b[0;34m\"get\"\u001b[0m\u001b[0;34m,\u001b[0m \u001b[0murl\u001b[0m\u001b[0;34m,\u001b[0m \u001b[0mparams\u001b[0m\u001b[0;34m=\u001b[0m\u001b[0mparams\u001b[0m\u001b[0;34m,\u001b[0m \u001b[0;34m**\u001b[0m\u001b[0mkwargs\u001b[0m\u001b[0;34m)\u001b[0m\u001b[0;34m\u001b[0m\u001b[0;34m\u001b[0m\u001b[0m\n\u001b[0m\u001b[1;32m     74\u001b[0m \u001b[0;34m\u001b[0m\u001b[0m\n\u001b[1;32m     75\u001b[0m \u001b[0;34m\u001b[0m\u001b[0m\n",
            "\u001b[0;32m/usr/local/lib/python3.10/dist-packages/requests/api.py\u001b[0m in \u001b[0;36mrequest\u001b[0;34m(method, url, **kwargs)\u001b[0m\n\u001b[1;32m     57\u001b[0m     \u001b[0;31m# cases, and look like a memory leak in others.\u001b[0m\u001b[0;34m\u001b[0m\u001b[0;34m\u001b[0m\u001b[0m\n\u001b[1;32m     58\u001b[0m     \u001b[0;32mwith\u001b[0m \u001b[0msessions\u001b[0m\u001b[0;34m.\u001b[0m\u001b[0mSession\u001b[0m\u001b[0;34m(\u001b[0m\u001b[0;34m)\u001b[0m \u001b[0;32mas\u001b[0m \u001b[0msession\u001b[0m\u001b[0;34m:\u001b[0m\u001b[0;34m\u001b[0m\u001b[0;34m\u001b[0m\u001b[0m\n\u001b[0;32m---> 59\u001b[0;31m         \u001b[0;32mreturn\u001b[0m \u001b[0msession\u001b[0m\u001b[0;34m.\u001b[0m\u001b[0mrequest\u001b[0m\u001b[0;34m(\u001b[0m\u001b[0mmethod\u001b[0m\u001b[0;34m=\u001b[0m\u001b[0mmethod\u001b[0m\u001b[0;34m,\u001b[0m \u001b[0murl\u001b[0m\u001b[0;34m=\u001b[0m\u001b[0murl\u001b[0m\u001b[0;34m,\u001b[0m \u001b[0;34m**\u001b[0m\u001b[0mkwargs\u001b[0m\u001b[0;34m)\u001b[0m\u001b[0;34m\u001b[0m\u001b[0;34m\u001b[0m\u001b[0m\n\u001b[0m\u001b[1;32m     60\u001b[0m \u001b[0;34m\u001b[0m\u001b[0m\n\u001b[1;32m     61\u001b[0m \u001b[0;34m\u001b[0m\u001b[0m\n",
            "\u001b[0;32m/usr/local/lib/python3.10/dist-packages/requests/sessions.py\u001b[0m in \u001b[0;36mrequest\u001b[0;34m(self, method, url, params, data, headers, cookies, files, auth, timeout, allow_redirects, proxies, hooks, stream, verify, cert, json)\u001b[0m\n\u001b[1;32m    587\u001b[0m         }\n\u001b[1;32m    588\u001b[0m         \u001b[0msend_kwargs\u001b[0m\u001b[0;34m.\u001b[0m\u001b[0mupdate\u001b[0m\u001b[0;34m(\u001b[0m\u001b[0msettings\u001b[0m\u001b[0;34m)\u001b[0m\u001b[0;34m\u001b[0m\u001b[0;34m\u001b[0m\u001b[0m\n\u001b[0;32m--> 589\u001b[0;31m         \u001b[0mresp\u001b[0m \u001b[0;34m=\u001b[0m \u001b[0mself\u001b[0m\u001b[0;34m.\u001b[0m\u001b[0msend\u001b[0m\u001b[0;34m(\u001b[0m\u001b[0mprep\u001b[0m\u001b[0;34m,\u001b[0m \u001b[0;34m**\u001b[0m\u001b[0msend_kwargs\u001b[0m\u001b[0;34m)\u001b[0m\u001b[0;34m\u001b[0m\u001b[0;34m\u001b[0m\u001b[0m\n\u001b[0m\u001b[1;32m    590\u001b[0m \u001b[0;34m\u001b[0m\u001b[0m\n\u001b[1;32m    591\u001b[0m         \u001b[0;32mreturn\u001b[0m \u001b[0mresp\u001b[0m\u001b[0;34m\u001b[0m\u001b[0;34m\u001b[0m\u001b[0m\n",
            "\u001b[0;32m/usr/local/lib/python3.10/dist-packages/requests/sessions.py\u001b[0m in \u001b[0;36msend\u001b[0;34m(self, request, **kwargs)\u001b[0m\n\u001b[1;32m    701\u001b[0m \u001b[0;34m\u001b[0m\u001b[0m\n\u001b[1;32m    702\u001b[0m         \u001b[0;31m# Send the request\u001b[0m\u001b[0;34m\u001b[0m\u001b[0;34m\u001b[0m\u001b[0m\n\u001b[0;32m--> 703\u001b[0;31m         \u001b[0mr\u001b[0m \u001b[0;34m=\u001b[0m \u001b[0madapter\u001b[0m\u001b[0;34m.\u001b[0m\u001b[0msend\u001b[0m\u001b[0;34m(\u001b[0m\u001b[0mrequest\u001b[0m\u001b[0;34m,\u001b[0m \u001b[0;34m**\u001b[0m\u001b[0mkwargs\u001b[0m\u001b[0;34m)\u001b[0m\u001b[0;34m\u001b[0m\u001b[0;34m\u001b[0m\u001b[0m\n\u001b[0m\u001b[1;32m    704\u001b[0m \u001b[0;34m\u001b[0m\u001b[0m\n\u001b[1;32m    705\u001b[0m         \u001b[0;31m# Total elapsed time of the request (approximately)\u001b[0m\u001b[0;34m\u001b[0m\u001b[0;34m\u001b[0m\u001b[0m\n",
            "\u001b[0;32m/usr/local/lib/python3.10/dist-packages/requests/adapters.py\u001b[0m in \u001b[0;36msend\u001b[0;34m(self, request, stream, timeout, verify, cert, proxies)\u001b[0m\n\u001b[1;32m    665\u001b[0m \u001b[0;34m\u001b[0m\u001b[0m\n\u001b[1;32m    666\u001b[0m         \u001b[0;32mtry\u001b[0m\u001b[0;34m:\u001b[0m\u001b[0;34m\u001b[0m\u001b[0;34m\u001b[0m\u001b[0m\n\u001b[0;32m--> 667\u001b[0;31m             resp = conn.urlopen(\n\u001b[0m\u001b[1;32m    668\u001b[0m                 \u001b[0mmethod\u001b[0m\u001b[0;34m=\u001b[0m\u001b[0mrequest\u001b[0m\u001b[0;34m.\u001b[0m\u001b[0mmethod\u001b[0m\u001b[0;34m,\u001b[0m\u001b[0;34m\u001b[0m\u001b[0;34m\u001b[0m\u001b[0m\n\u001b[1;32m    669\u001b[0m                 \u001b[0murl\u001b[0m\u001b[0;34m=\u001b[0m\u001b[0murl\u001b[0m\u001b[0;34m,\u001b[0m\u001b[0;34m\u001b[0m\u001b[0;34m\u001b[0m\u001b[0m\n",
            "\u001b[0;32m/usr/local/lib/python3.10/dist-packages/urllib3/connectionpool.py\u001b[0m in \u001b[0;36murlopen\u001b[0;34m(self, method, url, body, headers, retries, redirect, assert_same_host, timeout, pool_timeout, release_conn, chunked, body_pos, preload_content, decode_content, **response_kw)\u001b[0m\n\u001b[1;32m    789\u001b[0m \u001b[0;34m\u001b[0m\u001b[0m\n\u001b[1;32m    790\u001b[0m             \u001b[0;31m# Make the request on the HTTPConnection object\u001b[0m\u001b[0;34m\u001b[0m\u001b[0;34m\u001b[0m\u001b[0m\n\u001b[0;32m--> 791\u001b[0;31m             response = self._make_request(\n\u001b[0m\u001b[1;32m    792\u001b[0m                 \u001b[0mconn\u001b[0m\u001b[0;34m,\u001b[0m\u001b[0;34m\u001b[0m\u001b[0;34m\u001b[0m\u001b[0m\n\u001b[1;32m    793\u001b[0m                 \u001b[0mmethod\u001b[0m\u001b[0;34m,\u001b[0m\u001b[0;34m\u001b[0m\u001b[0;34m\u001b[0m\u001b[0m\n",
            "\u001b[0;32m/usr/local/lib/python3.10/dist-packages/urllib3/connectionpool.py\u001b[0m in \u001b[0;36m_make_request\u001b[0;34m(self, conn, method, url, body, headers, retries, timeout, chunked, response_conn, preload_content, decode_content, enforce_content_length)\u001b[0m\n\u001b[1;32m    535\u001b[0m         \u001b[0;31m# Receive the response from the server\u001b[0m\u001b[0;34m\u001b[0m\u001b[0;34m\u001b[0m\u001b[0m\n\u001b[1;32m    536\u001b[0m         \u001b[0;32mtry\u001b[0m\u001b[0;34m:\u001b[0m\u001b[0;34m\u001b[0m\u001b[0;34m\u001b[0m\u001b[0m\n\u001b[0;32m--> 537\u001b[0;31m             \u001b[0mresponse\u001b[0m \u001b[0;34m=\u001b[0m \u001b[0mconn\u001b[0m\u001b[0;34m.\u001b[0m\u001b[0mgetresponse\u001b[0m\u001b[0;34m(\u001b[0m\u001b[0;34m)\u001b[0m\u001b[0;34m\u001b[0m\u001b[0;34m\u001b[0m\u001b[0m\n\u001b[0m\u001b[1;32m    538\u001b[0m         \u001b[0;32mexcept\u001b[0m \u001b[0;34m(\u001b[0m\u001b[0mBaseSSLError\u001b[0m\u001b[0;34m,\u001b[0m \u001b[0mOSError\u001b[0m\u001b[0;34m)\u001b[0m \u001b[0;32mas\u001b[0m \u001b[0me\u001b[0m\u001b[0;34m:\u001b[0m\u001b[0;34m\u001b[0m\u001b[0;34m\u001b[0m\u001b[0m\n\u001b[1;32m    539\u001b[0m             \u001b[0mself\u001b[0m\u001b[0;34m.\u001b[0m\u001b[0m_raise_timeout\u001b[0m\u001b[0;34m(\u001b[0m\u001b[0merr\u001b[0m\u001b[0;34m=\u001b[0m\u001b[0me\u001b[0m\u001b[0;34m,\u001b[0m \u001b[0murl\u001b[0m\u001b[0;34m=\u001b[0m\u001b[0murl\u001b[0m\u001b[0;34m,\u001b[0m \u001b[0mtimeout_value\u001b[0m\u001b[0;34m=\u001b[0m\u001b[0mread_timeout\u001b[0m\u001b[0;34m)\u001b[0m\u001b[0;34m\u001b[0m\u001b[0;34m\u001b[0m\u001b[0m\n",
            "\u001b[0;32m/usr/local/lib/python3.10/dist-packages/urllib3/connection.py\u001b[0m in \u001b[0;36mgetresponse\u001b[0;34m(self)\u001b[0m\n\u001b[1;32m    459\u001b[0m \u001b[0;34m\u001b[0m\u001b[0m\n\u001b[1;32m    460\u001b[0m         \u001b[0;31m# Get the response from http.client.HTTPConnection\u001b[0m\u001b[0;34m\u001b[0m\u001b[0;34m\u001b[0m\u001b[0m\n\u001b[0;32m--> 461\u001b[0;31m         \u001b[0mhttplib_response\u001b[0m \u001b[0;34m=\u001b[0m \u001b[0msuper\u001b[0m\u001b[0;34m(\u001b[0m\u001b[0;34m)\u001b[0m\u001b[0;34m.\u001b[0m\u001b[0mgetresponse\u001b[0m\u001b[0;34m(\u001b[0m\u001b[0;34m)\u001b[0m\u001b[0;34m\u001b[0m\u001b[0;34m\u001b[0m\u001b[0m\n\u001b[0m\u001b[1;32m    462\u001b[0m \u001b[0;34m\u001b[0m\u001b[0m\n\u001b[1;32m    463\u001b[0m         \u001b[0;32mtry\u001b[0m\u001b[0;34m:\u001b[0m\u001b[0;34m\u001b[0m\u001b[0;34m\u001b[0m\u001b[0m\n",
            "\u001b[0;32m/usr/lib/python3.10/http/client.py\u001b[0m in \u001b[0;36mgetresponse\u001b[0;34m(self)\u001b[0m\n\u001b[1;32m   1373\u001b[0m         \u001b[0;32mtry\u001b[0m\u001b[0;34m:\u001b[0m\u001b[0;34m\u001b[0m\u001b[0;34m\u001b[0m\u001b[0m\n\u001b[1;32m   1374\u001b[0m             \u001b[0;32mtry\u001b[0m\u001b[0;34m:\u001b[0m\u001b[0;34m\u001b[0m\u001b[0;34m\u001b[0m\u001b[0m\n\u001b[0;32m-> 1375\u001b[0;31m                 \u001b[0mresponse\u001b[0m\u001b[0;34m.\u001b[0m\u001b[0mbegin\u001b[0m\u001b[0;34m(\u001b[0m\u001b[0;34m)\u001b[0m\u001b[0;34m\u001b[0m\u001b[0;34m\u001b[0m\u001b[0m\n\u001b[0m\u001b[1;32m   1376\u001b[0m             \u001b[0;32mexcept\u001b[0m \u001b[0mConnectionError\u001b[0m\u001b[0;34m:\u001b[0m\u001b[0;34m\u001b[0m\u001b[0;34m\u001b[0m\u001b[0m\n\u001b[1;32m   1377\u001b[0m                 \u001b[0mself\u001b[0m\u001b[0;34m.\u001b[0m\u001b[0mclose\u001b[0m\u001b[0;34m(\u001b[0m\u001b[0;34m)\u001b[0m\u001b[0;34m\u001b[0m\u001b[0;34m\u001b[0m\u001b[0m\n",
            "\u001b[0;32m/usr/lib/python3.10/http/client.py\u001b[0m in \u001b[0;36mbegin\u001b[0;34m(self)\u001b[0m\n\u001b[1;32m    316\u001b[0m         \u001b[0;31m# read until we get a non-100 response\u001b[0m\u001b[0;34m\u001b[0m\u001b[0;34m\u001b[0m\u001b[0m\n\u001b[1;32m    317\u001b[0m         \u001b[0;32mwhile\u001b[0m \u001b[0;32mTrue\u001b[0m\u001b[0;34m:\u001b[0m\u001b[0;34m\u001b[0m\u001b[0;34m\u001b[0m\u001b[0m\n\u001b[0;32m--> 318\u001b[0;31m             \u001b[0mversion\u001b[0m\u001b[0;34m,\u001b[0m \u001b[0mstatus\u001b[0m\u001b[0;34m,\u001b[0m \u001b[0mreason\u001b[0m \u001b[0;34m=\u001b[0m \u001b[0mself\u001b[0m\u001b[0;34m.\u001b[0m\u001b[0m_read_status\u001b[0m\u001b[0;34m(\u001b[0m\u001b[0;34m)\u001b[0m\u001b[0;34m\u001b[0m\u001b[0;34m\u001b[0m\u001b[0m\n\u001b[0m\u001b[1;32m    319\u001b[0m             \u001b[0;32mif\u001b[0m \u001b[0mstatus\u001b[0m \u001b[0;34m!=\u001b[0m \u001b[0mCONTINUE\u001b[0m\u001b[0;34m:\u001b[0m\u001b[0;34m\u001b[0m\u001b[0;34m\u001b[0m\u001b[0m\n\u001b[1;32m    320\u001b[0m                 \u001b[0;32mbreak\u001b[0m\u001b[0;34m\u001b[0m\u001b[0;34m\u001b[0m\u001b[0m\n",
            "\u001b[0;32m/usr/lib/python3.10/http/client.py\u001b[0m in \u001b[0;36m_read_status\u001b[0;34m(self)\u001b[0m\n\u001b[1;32m    277\u001b[0m \u001b[0;34m\u001b[0m\u001b[0m\n\u001b[1;32m    278\u001b[0m     \u001b[0;32mdef\u001b[0m \u001b[0m_read_status\u001b[0m\u001b[0;34m(\u001b[0m\u001b[0mself\u001b[0m\u001b[0;34m)\u001b[0m\u001b[0;34m:\u001b[0m\u001b[0;34m\u001b[0m\u001b[0;34m\u001b[0m\u001b[0m\n\u001b[0;32m--> 279\u001b[0;31m         \u001b[0mline\u001b[0m \u001b[0;34m=\u001b[0m \u001b[0mstr\u001b[0m\u001b[0;34m(\u001b[0m\u001b[0mself\u001b[0m\u001b[0;34m.\u001b[0m\u001b[0mfp\u001b[0m\u001b[0;34m.\u001b[0m\u001b[0mreadline\u001b[0m\u001b[0;34m(\u001b[0m\u001b[0m_MAXLINE\u001b[0m \u001b[0;34m+\u001b[0m \u001b[0;36m1\u001b[0m\u001b[0;34m)\u001b[0m\u001b[0;34m,\u001b[0m \u001b[0;34m\"iso-8859-1\"\u001b[0m\u001b[0;34m)\u001b[0m\u001b[0;34m\u001b[0m\u001b[0;34m\u001b[0m\u001b[0m\n\u001b[0m\u001b[1;32m    280\u001b[0m         \u001b[0;32mif\u001b[0m \u001b[0mlen\u001b[0m\u001b[0;34m(\u001b[0m\u001b[0mline\u001b[0m\u001b[0;34m)\u001b[0m \u001b[0;34m>\u001b[0m \u001b[0m_MAXLINE\u001b[0m\u001b[0;34m:\u001b[0m\u001b[0;34m\u001b[0m\u001b[0;34m\u001b[0m\u001b[0m\n\u001b[1;32m    281\u001b[0m             \u001b[0;32mraise\u001b[0m \u001b[0mLineTooLong\u001b[0m\u001b[0;34m(\u001b[0m\u001b[0;34m\"status line\"\u001b[0m\u001b[0;34m)\u001b[0m\u001b[0;34m\u001b[0m\u001b[0;34m\u001b[0m\u001b[0m\n",
            "\u001b[0;32m/usr/lib/python3.10/socket.py\u001b[0m in \u001b[0;36mreadinto\u001b[0;34m(self, b)\u001b[0m\n\u001b[1;32m    703\u001b[0m         \u001b[0;32mwhile\u001b[0m \u001b[0;32mTrue\u001b[0m\u001b[0;34m:\u001b[0m\u001b[0;34m\u001b[0m\u001b[0;34m\u001b[0m\u001b[0m\n\u001b[1;32m    704\u001b[0m             \u001b[0;32mtry\u001b[0m\u001b[0;34m:\u001b[0m\u001b[0;34m\u001b[0m\u001b[0;34m\u001b[0m\u001b[0m\n\u001b[0;32m--> 705\u001b[0;31m                 \u001b[0;32mreturn\u001b[0m \u001b[0mself\u001b[0m\u001b[0;34m.\u001b[0m\u001b[0m_sock\u001b[0m\u001b[0;34m.\u001b[0m\u001b[0mrecv_into\u001b[0m\u001b[0;34m(\u001b[0m\u001b[0mb\u001b[0m\u001b[0;34m)\u001b[0m\u001b[0;34m\u001b[0m\u001b[0;34m\u001b[0m\u001b[0m\n\u001b[0m\u001b[1;32m    706\u001b[0m             \u001b[0;32mexcept\u001b[0m \u001b[0mtimeout\u001b[0m\u001b[0;34m:\u001b[0m\u001b[0;34m\u001b[0m\u001b[0;34m\u001b[0m\u001b[0m\n\u001b[1;32m    707\u001b[0m                 \u001b[0mself\u001b[0m\u001b[0;34m.\u001b[0m\u001b[0m_timeout_occurred\u001b[0m \u001b[0;34m=\u001b[0m \u001b[0;32mTrue\u001b[0m\u001b[0;34m\u001b[0m\u001b[0;34m\u001b[0m\u001b[0m\n",
            "\u001b[0;32m/usr/lib/python3.10/ssl.py\u001b[0m in \u001b[0;36mrecv_into\u001b[0;34m(self, buffer, nbytes, flags)\u001b[0m\n\u001b[1;32m   1301\u001b[0m                   \u001b[0;34m\"non-zero flags not allowed in calls to recv_into() on %s\"\u001b[0m \u001b[0;34m%\u001b[0m\u001b[0;34m\u001b[0m\u001b[0;34m\u001b[0m\u001b[0m\n\u001b[1;32m   1302\u001b[0m                   self.__class__)\n\u001b[0;32m-> 1303\u001b[0;31m             \u001b[0;32mreturn\u001b[0m \u001b[0mself\u001b[0m\u001b[0;34m.\u001b[0m\u001b[0mread\u001b[0m\u001b[0;34m(\u001b[0m\u001b[0mnbytes\u001b[0m\u001b[0;34m,\u001b[0m \u001b[0mbuffer\u001b[0m\u001b[0;34m)\u001b[0m\u001b[0;34m\u001b[0m\u001b[0;34m\u001b[0m\u001b[0m\n\u001b[0m\u001b[1;32m   1304\u001b[0m         \u001b[0;32melse\u001b[0m\u001b[0;34m:\u001b[0m\u001b[0;34m\u001b[0m\u001b[0;34m\u001b[0m\u001b[0m\n\u001b[1;32m   1305\u001b[0m             \u001b[0;32mreturn\u001b[0m \u001b[0msuper\u001b[0m\u001b[0;34m(\u001b[0m\u001b[0;34m)\u001b[0m\u001b[0;34m.\u001b[0m\u001b[0mrecv_into\u001b[0m\u001b[0;34m(\u001b[0m\u001b[0mbuffer\u001b[0m\u001b[0;34m,\u001b[0m \u001b[0mnbytes\u001b[0m\u001b[0;34m,\u001b[0m \u001b[0mflags\u001b[0m\u001b[0;34m)\u001b[0m\u001b[0;34m\u001b[0m\u001b[0;34m\u001b[0m\u001b[0m\n",
            "\u001b[0;32m/usr/lib/python3.10/ssl.py\u001b[0m in \u001b[0;36mread\u001b[0;34m(self, len, buffer)\u001b[0m\n\u001b[1;32m   1157\u001b[0m         \u001b[0;32mtry\u001b[0m\u001b[0;34m:\u001b[0m\u001b[0;34m\u001b[0m\u001b[0;34m\u001b[0m\u001b[0m\n\u001b[1;32m   1158\u001b[0m             \u001b[0;32mif\u001b[0m \u001b[0mbuffer\u001b[0m \u001b[0;32mis\u001b[0m \u001b[0;32mnot\u001b[0m \u001b[0;32mNone\u001b[0m\u001b[0;34m:\u001b[0m\u001b[0;34m\u001b[0m\u001b[0;34m\u001b[0m\u001b[0m\n\u001b[0;32m-> 1159\u001b[0;31m                 \u001b[0;32mreturn\u001b[0m \u001b[0mself\u001b[0m\u001b[0;34m.\u001b[0m\u001b[0m_sslobj\u001b[0m\u001b[0;34m.\u001b[0m\u001b[0mread\u001b[0m\u001b[0;34m(\u001b[0m\u001b[0mlen\u001b[0m\u001b[0;34m,\u001b[0m \u001b[0mbuffer\u001b[0m\u001b[0;34m)\u001b[0m\u001b[0;34m\u001b[0m\u001b[0;34m\u001b[0m\u001b[0m\n\u001b[0m\u001b[1;32m   1160\u001b[0m             \u001b[0;32melse\u001b[0m\u001b[0;34m:\u001b[0m\u001b[0;34m\u001b[0m\u001b[0;34m\u001b[0m\u001b[0m\n\u001b[1;32m   1161\u001b[0m                 \u001b[0;32mreturn\u001b[0m \u001b[0mself\u001b[0m\u001b[0;34m.\u001b[0m\u001b[0m_sslobj\u001b[0m\u001b[0;34m.\u001b[0m\u001b[0mread\u001b[0m\u001b[0;34m(\u001b[0m\u001b[0mlen\u001b[0m\u001b[0;34m)\u001b[0m\u001b[0;34m\u001b[0m\u001b[0;34m\u001b[0m\u001b[0m\n",
            "\u001b[0;31mKeyboardInterrupt\u001b[0m: "
          ]
        }
      ]
    },
    {
      "cell_type": "code",
      "source": [
        "\n",
        "imdb_ratings = pd.DataFrame({\n",
        "    'movieId': [1, 2, 3, 4, 5],\n",
        "    'imdbRating': [8.9, 7.5, 6.2, 8.1, 7.8]\n",
        "})\n",
        "\n",
        "\n",
        "imdb_ratings_with_ids = pd.merge(imdb_ratings, links_df, on='movieId')\n",
        "\n",
        "\n",
        "highest_rated_movie = imdb_ratings_with_ids.loc[imdb_ratings_with_ids['imdbRating'].idxmax()]\n",
        "\n",
        "print(\"movieId:\", highest_rated_movie['movieId'])\n",
        "print(\"IMDB Rating:\", highest_rated_movie['imdbRating'])\n",
        "print(\"IMDB Id:\", highest_rated_movie['imdbId'])\n"
      ],
      "metadata": {
        "colab": {
          "base_uri": "https://localhost:8080/"
        },
        "id": "9iAuVh3dPJC0",
        "outputId": "d10fb307-344d-427f-bdfa-f27d09565faf"
      },
      "execution_count": 27,
      "outputs": [
        {
          "output_type": "stream",
          "name": "stdout",
          "text": [
            "movieId: 1.0\n",
            "IMDB Rating: 8.9\n",
            "IMDB Id: 114709.0\n"
          ]
        }
      ]
    }
  ]
}
